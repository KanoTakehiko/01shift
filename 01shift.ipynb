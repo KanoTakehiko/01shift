{
 "cells": [
  {
   "cell_type": "code",
   "execution_count": 1,
   "id": "78f5c5d9-947f-4592-873f-4fe71221bec9",
   "metadata": {
    "tags": []
   },
   "outputs": [],
   "source": [
    "#インポート\n",
    "import classes\n",
    "import functions"
   ]
  },
  {
   "cell_type": "code",
   "execution_count": 2,
   "id": "1d91b585-b0b2-4eac-b09f-28a1cadac91d",
   "metadata": {
    "tags": []
   },
   "outputs": [
    {
     "name": "stdin",
     "output_type": "stream",
     "text": [
      "アンケート結果のパスを入力してください\n",
      " sample.xlsx\n"
     ]
    }
   ],
   "source": [
    "#データフレームを取得\n",
    "df = functions.get_df()"
   ]
  },
  {
   "cell_type": "code",
   "execution_count": 3,
   "id": "7343b2ac-0e04-438c-9d73-92313ac6df9d",
   "metadata": {
    "tags": []
   },
   "outputs": [],
   "source": [
    "#コマのタプルを取得\n",
    "blocks = functions.get_blocks(df.columns)"
   ]
  },
  {
   "cell_type": "code",
   "execution_count": 4,
   "id": "5e1f8fbc-e0e1-4966-aa02-491e853f4ac9",
   "metadata": {
    "tags": []
   },
   "outputs": [],
   "source": [
    "#日付のタプルを取得\n",
    "dates = functions.get_dates(blocks)"
   ]
  },
  {
   "cell_type": "code",
   "execution_count": 5,
   "id": "b8ba8d47-c280-4d91-8491-a6bdd50499a2",
   "metadata": {
    "tags": []
   },
   "outputs": [],
   "source": [
    "#それぞれの回答をオブジェクト化\n",
    "answers = functions.get_answers(df=df,blocks=blocks)"
   ]
  },
  {
   "cell_type": "code",
   "execution_count": 6,
   "id": "11f2d64f-2c98-4083-8561-68d3aee55d65",
   "metadata": {
    "tags": []
   },
   "outputs": [],
   "source": [
    "#1日のシフトの候補を作成\n",
    "patterns = functions.get_dayshift_for_all(dates=dates,blocks=blocks,answers=answers)"
   ]
  },
  {
   "cell_type": "code",
   "execution_count": null,
   "id": "8fa5b4fa-4f32-4a82-bbf9-3966b9e6e0df",
   "metadata": {},
   "outputs": [],
   "source": []
  }
 ],
 "metadata": {
  "kernelspec": {
   "display_name": "Python 3 (ipykernel)",
   "language": "python",
   "name": "python3"
  },
  "language_info": {
   "codemirror_mode": {
    "name": "ipython",
    "version": 3
   },
   "file_extension": ".py",
   "mimetype": "text/x-python",
   "name": "python",
   "nbconvert_exporter": "python",
   "pygments_lexer": "ipython3",
   "version": "3.11.2"
  }
 },
 "nbformat": 4,
 "nbformat_minor": 5
}
